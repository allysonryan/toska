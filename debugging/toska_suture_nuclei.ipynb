{
 "cells": [
  {
   "cell_type": "code",
   "execution_count": null,
   "metadata": {},
   "outputs": [],
   "source": [
    "## import required functions\n",
    "from __future__ import division, print_function\n",
    "import os\n",
    "\n",
    "import numpy as np\n",
    "import matplotlib.pyplot as plt\n",
    "\n",
    "from skimage.io import imread, imsave\n",
    "from skimage.morphology import skeletonize\n",
    "from skimage.measure import regionprops\n",
    "from scipy.ndimage import binary_fill_holes\n",
    "\n",
    "%matplotlib inline\n",
    "\n",
    "##--------------------------------------------------------------\n",
    "\n",
    "def remove_unwanted_objects(labeled_img, keep_ids):\n",
    "    \n",
    "    '''...'''\n",
    "    \n",
    "    clean_img = np.copy(labeled_img)\n",
    "    all_ids = np.unique(labeled_img)\n",
    "    \n",
    "    for i in all_ids:\n",
    "        if i not in keep_ids:\n",
    "            clean_img[labeled_img == i] = 0\n",
    "    \n",
    "    return clean_img\n",
    "\n",
    "##--------------------------------------------------------------\n",
    "\n",
    "def suture_segmentation_repair(labeled_img, obj_ids, subarrs, bboxes, bg_val = 0):\n",
    "    \n",
    "    '''...'''\n",
    "    \n",
    "    repaired = np.zeros_like(labeled_img)\n",
    "    len_diff = len(obj_ids) - len(subarrs)\n",
    "    \n",
    "    for i in range(len(obj_ids)):\n",
    "        i_id = obj_ids[i]\n",
    "        \n",
    "        if i_id != bg_val:\n",
    "            mask = subarrs[i - len_diff]\n",
    "            plt.imshow(mask.sum(axis = 0))\n",
    "            plt.show()\n",
    "            \n",
    "            i_repair = binary_fill_holes(mask).astype(int)\n",
    "            i_repair = ((i_repair/np.amax(i_repair)) * i_id).astype(labeled_img.dtype)\n",
    "            \n",
    "            plt.imshow(i_repair.sum(axis = 0))\n",
    "            plt.show()\n",
    "            \n",
    "            d0_l, d1_l, d2_l, d0_h, d1_h, d2_h = bboxes[i-len_diff]\n",
    "            repaired[d0_l:d0_h, d1_l:d1_h, d2_l:d2_h] = repaired[d0_l:d0_h, d1_l:d1_h, d2_l:d2_h] + i_repair\n",
    "        else:\n",
    "            continue\n",
    "    \n",
    "    return repaired\n",
    "\n"
   ]
  },
  {
   "cell_type": "code",
   "execution_count": null,
   "metadata": {},
   "outputs": [],
   "source": [
    "fpath = r'/Users/ryan/Desktop/bapn2'\n",
    "img_fname = r'E15.5_BAPN_dataset2_segmentation samples.tif'\n",
    "ids_fname = f'E15.5_BAPN_dataset2_segmentation retained IDs.npy'\n",
    "\n",
    "labeled_img = imread(os.path.join(fpath, img_fname))\n",
    "obj_ids = np.load(os.path.join(fpath, ids_fname))\n",
    "\n",
    "plt.imshow(labeled_img.max(axis = 0))\n",
    "plt.show()"
   ]
  },
  {
   "cell_type": "code",
   "execution_count": null,
   "metadata": {},
   "outputs": [],
   "source": [
    "reg_props = regionprops(labeled_img)\n",
    "subarrs = [0] * len(reg_props)\n",
    "bboxes = [0] * len(reg_props)\n",
    "counter = 0\n",
    "for i in reg_props:\n",
    "    subarrs[counter] = i['image']\n",
    "    bboxes[counter] = i['bbox']\n",
    "    counter += 1\n",
    "    \n",
    "filled = suture_segmentation_repair(labeled_img, obj_ids, subarrs, bboxes)\n",
    "plt.imshow(filled.max(axis = 0))\n",
    "plt.show()"
   ]
  },
  {
   "cell_type": "code",
   "execution_count": null,
   "metadata": {
    "scrolled": false
   },
   "outputs": [],
   "source": [
    "test = subarrs[0]\n",
    "test_bbox = bboxes[0]\n",
    "print(test_bbox)\n",
    "plt.imshow(test.sum(axis = 0))\n",
    "plt.show()\n",
    "\n",
    "z0, y0, x0, z1, y1, x1 = test_bbox\n",
    "plt.imshow(labeled_img[z0:z1, y0:y1, x0:x1].sum(axis = 0))\n",
    "plt.show()\n",
    "\n",
    "plt.imshow(filled[z0:z1, y0:y1, x0:x1].sum(axis = 0))\n",
    "plt.show()"
   ]
  },
  {
   "cell_type": "code",
   "execution_count": null,
   "metadata": {},
   "outputs": [],
   "source": [
    "reg_props = regionprops(filled)\n",
    "subarrs = [0] * len(reg_props)\n",
    "bboxes = [0] * len(reg_props)\n",
    "counter = 0\n",
    "for i in reg_props:\n",
    "    subarrs[counter] = i['image']\n",
    "    plt.imshow(subarrs[counter].sum(axis = 0))\n",
    "    plt.show()\n",
    "    bboxes[counter] = i['bbox']\n",
    "    counter += 1\n",
    "    \n",
    "skels = suture_topskel_extract(filled, obj_ids, subarrs, bboxes)\n",
    "plt.imshow(skels.max(axis = 0))\n",
    "plt.show()"
   ]
  }
 ],
 "metadata": {
  "kernelspec": {
   "display_name": "Python 3",
   "language": "python",
   "name": "python3"
  },
  "language_info": {
   "codemirror_mode": {
    "name": "ipython",
    "version": 3
   },
   "file_extension": ".py",
   "mimetype": "text/x-python",
   "name": "python",
   "nbconvert_exporter": "python",
   "pygments_lexer": "ipython3",
   "version": "3.8.0"
  }
 },
 "nbformat": 4,
 "nbformat_minor": 4
}
